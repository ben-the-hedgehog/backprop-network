{
 "cells": [
  {
   "cell_type": "markdown",
   "metadata": {},
   "source": [
    "<h1> CMPE452 Assignment 2 - Classifying Wines using Feed-Forward NN with Backpropogation </h1>\n",
    "\n",
    "<i>Authored by: Ben Pang (SN: 10085206)</i>"
   ]
  },
  {
   "cell_type": "markdown",
   "metadata": {},
   "source": [
    "<h2> 1. Data Pre-Processing </h2>"
   ]
  },
  {
   "cell_type": "markdown",
   "metadata": {},
   "source": [
    "First, we load the data into a Pandas Dataframe:"
   ]
  },
  {
   "cell_type": "code",
   "execution_count": 1,
   "metadata": {},
   "outputs": [],
   "source": [
    "import numpy as np\n",
    "import pandas as pd"
   ]
  },
  {
   "cell_type": "code",
   "execution_count": 2,
   "metadata": {},
   "outputs": [],
   "source": [
    "data = pd.read_csv(\"wine.csv\")"
   ]
  },
  {
   "cell_type": "code",
   "execution_count": 3,
   "metadata": {},
   "outputs": [
    {
     "data": {
      "text/html": [
       "<div>\n",
       "<style scoped>\n",
       "    .dataframe tbody tr th:only-of-type {\n",
       "        vertical-align: middle;\n",
       "    }\n",
       "\n",
       "    .dataframe tbody tr th {\n",
       "        vertical-align: top;\n",
       "    }\n",
       "\n",
       "    .dataframe thead th {\n",
       "        text-align: right;\n",
       "    }\n",
       "</style>\n",
       "<table border=\"1\" class=\"dataframe\">\n",
       "  <thead>\n",
       "    <tr style=\"text-align: right;\">\n",
       "      <th></th>\n",
       "      <th>fixed acidity</th>\n",
       "      <th>volatile acidity</th>\n",
       "      <th>citric acid</th>\n",
       "      <th>residual sugar</th>\n",
       "      <th>chlorides</th>\n",
       "      <th>free sulfur dioxide</th>\n",
       "      <th>total sulfur dioxide</th>\n",
       "      <th>density</th>\n",
       "      <th>pH</th>\n",
       "      <th>sulphates</th>\n",
       "      <th>alcohol</th>\n",
       "      <th>quality</th>\n",
       "    </tr>\n",
       "  </thead>\n",
       "  <tbody>\n",
       "    <tr>\n",
       "      <th>0</th>\n",
       "      <td>8.1</td>\n",
       "      <td>0.27</td>\n",
       "      <td>0.41</td>\n",
       "      <td>1.45</td>\n",
       "      <td>0.033</td>\n",
       "      <td>11.0</td>\n",
       "      <td>63.0</td>\n",
       "      <td>0.9908</td>\n",
       "      <td>2.99</td>\n",
       "      <td>0.56</td>\n",
       "      <td>12.0</td>\n",
       "      <td>5</td>\n",
       "    </tr>\n",
       "    <tr>\n",
       "      <th>1</th>\n",
       "      <td>8.6</td>\n",
       "      <td>0.23</td>\n",
       "      <td>0.40</td>\n",
       "      <td>4.20</td>\n",
       "      <td>0.035</td>\n",
       "      <td>17.0</td>\n",
       "      <td>109.0</td>\n",
       "      <td>0.9947</td>\n",
       "      <td>3.14</td>\n",
       "      <td>0.53</td>\n",
       "      <td>9.7</td>\n",
       "      <td>5</td>\n",
       "    </tr>\n",
       "    <tr>\n",
       "      <th>2</th>\n",
       "      <td>7.9</td>\n",
       "      <td>0.18</td>\n",
       "      <td>0.37</td>\n",
       "      <td>1.20</td>\n",
       "      <td>0.040</td>\n",
       "      <td>16.0</td>\n",
       "      <td>75.0</td>\n",
       "      <td>0.9920</td>\n",
       "      <td>3.18</td>\n",
       "      <td>0.63</td>\n",
       "      <td>10.8</td>\n",
       "      <td>5</td>\n",
       "    </tr>\n",
       "    <tr>\n",
       "      <th>3</th>\n",
       "      <td>6.6</td>\n",
       "      <td>0.16</td>\n",
       "      <td>0.40</td>\n",
       "      <td>1.50</td>\n",
       "      <td>0.044</td>\n",
       "      <td>48.0</td>\n",
       "      <td>143.0</td>\n",
       "      <td>0.9912</td>\n",
       "      <td>3.54</td>\n",
       "      <td>0.52</td>\n",
       "      <td>12.4</td>\n",
       "      <td>7</td>\n",
       "    </tr>\n",
       "    <tr>\n",
       "      <th>4</th>\n",
       "      <td>8.3</td>\n",
       "      <td>0.42</td>\n",
       "      <td>0.62</td>\n",
       "      <td>19.25</td>\n",
       "      <td>0.040</td>\n",
       "      <td>41.0</td>\n",
       "      <td>172.0</td>\n",
       "      <td>1.0002</td>\n",
       "      <td>2.98</td>\n",
       "      <td>0.67</td>\n",
       "      <td>9.7</td>\n",
       "      <td>5</td>\n",
       "    </tr>\n",
       "  </tbody>\n",
       "</table>\n",
       "</div>"
      ],
      "text/plain": [
       "   fixed acidity  volatile acidity  citric acid  residual sugar  chlorides  \\\n",
       "0            8.1              0.27         0.41            1.45      0.033   \n",
       "1            8.6              0.23         0.40            4.20      0.035   \n",
       "2            7.9              0.18         0.37            1.20      0.040   \n",
       "3            6.6              0.16         0.40            1.50      0.044   \n",
       "4            8.3              0.42         0.62           19.25      0.040   \n",
       "\n",
       "   free sulfur dioxide  total sulfur dioxide  density    pH  sulphates  \\\n",
       "0                 11.0                  63.0   0.9908  2.99       0.56   \n",
       "1                 17.0                 109.0   0.9947  3.14       0.53   \n",
       "2                 16.0                  75.0   0.9920  3.18       0.63   \n",
       "3                 48.0                 143.0   0.9912  3.54       0.52   \n",
       "4                 41.0                 172.0   1.0002  2.98       0.67   \n",
       "\n",
       "   alcohol  quality  \n",
       "0     12.0        5  \n",
       "1      9.7        5  \n",
       "2     10.8        5  \n",
       "3     12.4        7  \n",
       "4      9.7        5  "
      ]
     },
     "execution_count": 3,
     "metadata": {},
     "output_type": "execute_result"
    }
   ],
   "source": [
    "data.head()"
   ]
  },
  {
   "cell_type": "code",
   "execution_count": 4,
   "metadata": {},
   "outputs": [
    {
     "data": {
      "text/html": [
       "<div>\n",
       "<style scoped>\n",
       "    .dataframe tbody tr th:only-of-type {\n",
       "        vertical-align: middle;\n",
       "    }\n",
       "\n",
       "    .dataframe tbody tr th {\n",
       "        vertical-align: top;\n",
       "    }\n",
       "\n",
       "    .dataframe thead th {\n",
       "        text-align: right;\n",
       "    }\n",
       "</style>\n",
       "<table border=\"1\" class=\"dataframe\">\n",
       "  <thead>\n",
       "    <tr style=\"text-align: right;\">\n",
       "      <th></th>\n",
       "      <th>fixed acidity</th>\n",
       "      <th>volatile acidity</th>\n",
       "      <th>citric acid</th>\n",
       "      <th>residual sugar</th>\n",
       "      <th>chlorides</th>\n",
       "      <th>free sulfur dioxide</th>\n",
       "      <th>total sulfur dioxide</th>\n",
       "      <th>density</th>\n",
       "      <th>pH</th>\n",
       "      <th>sulphates</th>\n",
       "      <th>alcohol</th>\n",
       "    </tr>\n",
       "  </thead>\n",
       "  <tbody>\n",
       "    <tr>\n",
       "      <th>count</th>\n",
       "      <td>2512.000000</td>\n",
       "      <td>2512.000000</td>\n",
       "      <td>2512.000000</td>\n",
       "      <td>2512.000000</td>\n",
       "      <td>2512.000000</td>\n",
       "      <td>2512.000000</td>\n",
       "      <td>2512.000000</td>\n",
       "      <td>2512.000000</td>\n",
       "      <td>2512.000000</td>\n",
       "      <td>2512.000000</td>\n",
       "      <td>2512.000000</td>\n",
       "    </tr>\n",
       "    <tr>\n",
       "      <th>mean</th>\n",
       "      <td>6.844885</td>\n",
       "      <td>0.286549</td>\n",
       "      <td>0.332663</td>\n",
       "      <td>6.466421</td>\n",
       "      <td>0.045946</td>\n",
       "      <td>35.644108</td>\n",
       "      <td>140.146497</td>\n",
       "      <td>0.994067</td>\n",
       "      <td>3.188093</td>\n",
       "      <td>0.489805</td>\n",
       "      <td>10.482310</td>\n",
       "    </tr>\n",
       "    <tr>\n",
       "      <th>std</th>\n",
       "      <td>0.815688</td>\n",
       "      <td>0.099314</td>\n",
       "      <td>0.119301</td>\n",
       "      <td>5.023958</td>\n",
       "      <td>0.022416</td>\n",
       "      <td>16.485827</td>\n",
       "      <td>41.686278</td>\n",
       "      <td>0.002992</td>\n",
       "      <td>0.149717</td>\n",
       "      <td>0.114548</td>\n",
       "      <td>1.305514</td>\n",
       "    </tr>\n",
       "    <tr>\n",
       "      <th>min</th>\n",
       "      <td>3.900000</td>\n",
       "      <td>0.080000</td>\n",
       "      <td>0.000000</td>\n",
       "      <td>0.600000</td>\n",
       "      <td>0.009000</td>\n",
       "      <td>2.000000</td>\n",
       "      <td>9.000000</td>\n",
       "      <td>0.987110</td>\n",
       "      <td>2.790000</td>\n",
       "      <td>0.220000</td>\n",
       "      <td>8.000000</td>\n",
       "    </tr>\n",
       "    <tr>\n",
       "      <th>25%</th>\n",
       "      <td>6.300000</td>\n",
       "      <td>0.220000</td>\n",
       "      <td>0.260000</td>\n",
       "      <td>1.800000</td>\n",
       "      <td>0.035000</td>\n",
       "      <td>24.000000</td>\n",
       "      <td>111.000000</td>\n",
       "      <td>0.991730</td>\n",
       "      <td>3.090000</td>\n",
       "      <td>0.410000</td>\n",
       "      <td>9.400000</td>\n",
       "    </tr>\n",
       "    <tr>\n",
       "      <th>50%</th>\n",
       "      <td>6.800000</td>\n",
       "      <td>0.280000</td>\n",
       "      <td>0.320000</td>\n",
       "      <td>5.250000</td>\n",
       "      <td>0.043000</td>\n",
       "      <td>34.000000</td>\n",
       "      <td>136.000000</td>\n",
       "      <td>0.993800</td>\n",
       "      <td>3.170000</td>\n",
       "      <td>0.470000</td>\n",
       "      <td>10.200000</td>\n",
       "    </tr>\n",
       "    <tr>\n",
       "      <th>75%</th>\n",
       "      <td>7.300000</td>\n",
       "      <td>0.330000</td>\n",
       "      <td>0.390000</td>\n",
       "      <td>10.050000</td>\n",
       "      <td>0.051000</td>\n",
       "      <td>46.000000</td>\n",
       "      <td>169.000000</td>\n",
       "      <td>0.996300</td>\n",
       "      <td>3.280000</td>\n",
       "      <td>0.540000</td>\n",
       "      <td>11.400000</td>\n",
       "    </tr>\n",
       "    <tr>\n",
       "      <th>max</th>\n",
       "      <td>10.300000</td>\n",
       "      <td>0.905000</td>\n",
       "      <td>1.000000</td>\n",
       "      <td>23.500000</td>\n",
       "      <td>0.346000</td>\n",
       "      <td>131.000000</td>\n",
       "      <td>344.000000</td>\n",
       "      <td>1.002410</td>\n",
       "      <td>3.820000</td>\n",
       "      <td>1.080000</td>\n",
       "      <td>14.200000</td>\n",
       "    </tr>\n",
       "  </tbody>\n",
       "</table>\n",
       "</div>"
      ],
      "text/plain": [
       "       fixed acidity  volatile acidity  citric acid  residual sugar  \\\n",
       "count    2512.000000       2512.000000  2512.000000     2512.000000   \n",
       "mean        6.844885          0.286549     0.332663        6.466421   \n",
       "std         0.815688          0.099314     0.119301        5.023958   \n",
       "min         3.900000          0.080000     0.000000        0.600000   \n",
       "25%         6.300000          0.220000     0.260000        1.800000   \n",
       "50%         6.800000          0.280000     0.320000        5.250000   \n",
       "75%         7.300000          0.330000     0.390000       10.050000   \n",
       "max        10.300000          0.905000     1.000000       23.500000   \n",
       "\n",
       "         chlorides  free sulfur dioxide  total sulfur dioxide      density  \\\n",
       "count  2512.000000          2512.000000           2512.000000  2512.000000   \n",
       "mean      0.045946            35.644108            140.146497     0.994067   \n",
       "std       0.022416            16.485827             41.686278     0.002992   \n",
       "min       0.009000             2.000000              9.000000     0.987110   \n",
       "25%       0.035000            24.000000            111.000000     0.991730   \n",
       "50%       0.043000            34.000000            136.000000     0.993800   \n",
       "75%       0.051000            46.000000            169.000000     0.996300   \n",
       "max       0.346000           131.000000            344.000000     1.002410   \n",
       "\n",
       "                pH    sulphates      alcohol  \n",
       "count  2512.000000  2512.000000  2512.000000  \n",
       "mean      3.188093     0.489805    10.482310  \n",
       "std       0.149717     0.114548     1.305514  \n",
       "min       2.790000     0.220000     8.000000  \n",
       "25%       3.090000     0.410000     9.400000  \n",
       "50%       3.170000     0.470000    10.200000  \n",
       "75%       3.280000     0.540000    11.400000  \n",
       "max       3.820000     1.080000    14.200000  "
      ]
     },
     "execution_count": 4,
     "metadata": {},
     "output_type": "execute_result"
    }
   ],
   "source": [
    "data.quality = pd.Categorical(data.quality)\n",
    "data.describe(exclude=['category'])"
   ]
  },
  {
   "cell_type": "markdown",
   "metadata": {},
   "source": [
    "Next, we normalize the columns of the data set such that values lie in the same range. The quality labels are also replaced with their categorical index. This is important to the classification algorithm of our neural network model which uses the argmax of the output activations vector as the predicted label."
   ]
  },
  {
   "cell_type": "code",
   "execution_count": 5,
   "metadata": {},
   "outputs": [
    {
     "data": {
      "text/html": [
       "<div>\n",
       "<style scoped>\n",
       "    .dataframe tbody tr th:only-of-type {\n",
       "        vertical-align: middle;\n",
       "    }\n",
       "\n",
       "    .dataframe tbody tr th {\n",
       "        vertical-align: top;\n",
       "    }\n",
       "\n",
       "    .dataframe thead th {\n",
       "        text-align: right;\n",
       "    }\n",
       "</style>\n",
       "<table border=\"1\" class=\"dataframe\">\n",
       "  <thead>\n",
       "    <tr style=\"text-align: right;\">\n",
       "      <th></th>\n",
       "      <th>fixed acidity</th>\n",
       "      <th>volatile acidity</th>\n",
       "      <th>citric acid</th>\n",
       "      <th>residual sugar</th>\n",
       "      <th>chlorides</th>\n",
       "      <th>free sulfur dioxide</th>\n",
       "      <th>total sulfur dioxide</th>\n",
       "      <th>density</th>\n",
       "      <th>pH</th>\n",
       "      <th>sulphates</th>\n",
       "      <th>alcohol</th>\n",
       "      <th>quality</th>\n",
       "      <th>labels</th>\n",
       "    </tr>\n",
       "  </thead>\n",
       "  <tbody>\n",
       "    <tr>\n",
       "      <th>0</th>\n",
       "      <td>0.786408</td>\n",
       "      <td>0.298343</td>\n",
       "      <td>0.41</td>\n",
       "      <td>0.061702</td>\n",
       "      <td>0.095376</td>\n",
       "      <td>0.083969</td>\n",
       "      <td>0.183140</td>\n",
       "      <td>0.988418</td>\n",
       "      <td>0.782723</td>\n",
       "      <td>0.518519</td>\n",
       "      <td>0.845070</td>\n",
       "      <td>5</td>\n",
       "      <td>0</td>\n",
       "    </tr>\n",
       "    <tr>\n",
       "      <th>1</th>\n",
       "      <td>0.834951</td>\n",
       "      <td>0.254144</td>\n",
       "      <td>0.40</td>\n",
       "      <td>0.178723</td>\n",
       "      <td>0.101156</td>\n",
       "      <td>0.129771</td>\n",
       "      <td>0.316860</td>\n",
       "      <td>0.992309</td>\n",
       "      <td>0.821990</td>\n",
       "      <td>0.490741</td>\n",
       "      <td>0.683099</td>\n",
       "      <td>5</td>\n",
       "      <td>0</td>\n",
       "    </tr>\n",
       "    <tr>\n",
       "      <th>2</th>\n",
       "      <td>0.766990</td>\n",
       "      <td>0.198895</td>\n",
       "      <td>0.37</td>\n",
       "      <td>0.051064</td>\n",
       "      <td>0.115607</td>\n",
       "      <td>0.122137</td>\n",
       "      <td>0.218023</td>\n",
       "      <td>0.989615</td>\n",
       "      <td>0.832461</td>\n",
       "      <td>0.583333</td>\n",
       "      <td>0.760563</td>\n",
       "      <td>5</td>\n",
       "      <td>0</td>\n",
       "    </tr>\n",
       "    <tr>\n",
       "      <th>3</th>\n",
       "      <td>0.640777</td>\n",
       "      <td>0.176796</td>\n",
       "      <td>0.40</td>\n",
       "      <td>0.063830</td>\n",
       "      <td>0.127168</td>\n",
       "      <td>0.366412</td>\n",
       "      <td>0.415698</td>\n",
       "      <td>0.988817</td>\n",
       "      <td>0.926702</td>\n",
       "      <td>0.481481</td>\n",
       "      <td>0.873239</td>\n",
       "      <td>7</td>\n",
       "      <td>1</td>\n",
       "    </tr>\n",
       "    <tr>\n",
       "      <th>4</th>\n",
       "      <td>0.805825</td>\n",
       "      <td>0.464088</td>\n",
       "      <td>0.62</td>\n",
       "      <td>0.819149</td>\n",
       "      <td>0.115607</td>\n",
       "      <td>0.312977</td>\n",
       "      <td>0.500000</td>\n",
       "      <td>0.997795</td>\n",
       "      <td>0.780105</td>\n",
       "      <td>0.620370</td>\n",
       "      <td>0.683099</td>\n",
       "      <td>5</td>\n",
       "      <td>0</td>\n",
       "    </tr>\n",
       "  </tbody>\n",
       "</table>\n",
       "</div>"
      ],
      "text/plain": [
       "   fixed acidity  volatile acidity  citric acid  residual sugar  chlorides  \\\n",
       "0       0.786408          0.298343         0.41        0.061702   0.095376   \n",
       "1       0.834951          0.254144         0.40        0.178723   0.101156   \n",
       "2       0.766990          0.198895         0.37        0.051064   0.115607   \n",
       "3       0.640777          0.176796         0.40        0.063830   0.127168   \n",
       "4       0.805825          0.464088         0.62        0.819149   0.115607   \n",
       "\n",
       "   free sulfur dioxide  total sulfur dioxide   density        pH  sulphates  \\\n",
       "0             0.083969              0.183140  0.988418  0.782723   0.518519   \n",
       "1             0.129771              0.316860  0.992309  0.821990   0.490741   \n",
       "2             0.122137              0.218023  0.989615  0.832461   0.583333   \n",
       "3             0.366412              0.415698  0.988817  0.926702   0.481481   \n",
       "4             0.312977              0.500000  0.997795  0.780105   0.620370   \n",
       "\n",
       "    alcohol quality  labels  \n",
       "0  0.845070       5       0  \n",
       "1  0.683099       5       0  \n",
       "2  0.760563       5       0  \n",
       "3  0.873239       7       1  \n",
       "4  0.683099       5       0  "
      ]
     },
     "execution_count": 5,
     "metadata": {},
     "output_type": "execute_result"
    }
   ],
   "source": [
    "data.iloc[:, 0:11] = data.iloc[:, 0:11].apply(lambda x: x/x.max(), axis=0)\n",
    "data['labels'] = data.quality.cat.codes\n",
    "data.head()"
   ]
  },
  {
   "cell_type": "code",
   "execution_count": 6,
   "metadata": {},
   "outputs": [],
   "source": [
    "data_X = data.iloc[:, 0:11]\n",
    "data_D = data['labels']"
   ]
  },
  {
   "cell_type": "markdown",
   "metadata": {},
   "source": [
    "<h5> Train-Test Split </h5>\n",
    "\n",
    "First, let us observe the class representation in the dataset:"
   ]
  },
  {
   "cell_type": "code",
   "execution_count": 7,
   "metadata": {},
   "outputs": [
    {
     "data": {
      "text/plain": [
       "5    1457\n",
       "7     880\n",
       "8     175\n",
       "Name: quality, dtype: int64"
      ]
     },
     "execution_count": 7,
     "metadata": {},
     "output_type": "execute_result"
    }
   ],
   "source": [
    "data.quality.value_counts()"
   ]
  },
  {
   "cell_type": "markdown",
   "metadata": {},
   "source": [
    "Clearly, the 3 classes of wine are not equally represented in the data. This may make class '8' difficult to predict in our network model. Undersampling/oversampling techniques such as SMOTE(Synthetic Minority Oversampling Technique) and SMOTE-ENN (SMOTE + Editted Nearest Neighbours) were tried, but the noise introduced by artificial oversampling reduced the performance of the network. \n",
    "\n",
    "We split the dataset into training and testing sets using a convenient tool from scikit-learn. We use a 7:3 train/test ratio for the splitting."
   ]
  },
  {
   "cell_type": "code",
   "execution_count": 8,
   "metadata": {
    "scrolled": true
   },
   "outputs": [],
   "source": [
    "from sklearn.model_selection import train_test_split\n",
    "train_X, test_X, train_D, test_D = train_test_split(data_X, data_D, test_size=0.3, random_state=17)"
   ]
  },
  {
   "cell_type": "markdown",
   "metadata": {},
   "source": [
    "We ensure that the training set and testing set are statistically similar by examining their statistic properties:"
   ]
  },
  {
   "cell_type": "code",
   "execution_count": 9,
   "metadata": {},
   "outputs": [
    {
     "data": {
      "text/html": [
       "<div>\n",
       "<style scoped>\n",
       "    .dataframe tbody tr th:only-of-type {\n",
       "        vertical-align: middle;\n",
       "    }\n",
       "\n",
       "    .dataframe tbody tr th {\n",
       "        vertical-align: top;\n",
       "    }\n",
       "\n",
       "    .dataframe thead th {\n",
       "        text-align: right;\n",
       "    }\n",
       "</style>\n",
       "<table border=\"1\" class=\"dataframe\">\n",
       "  <thead>\n",
       "    <tr style=\"text-align: right;\">\n",
       "      <th></th>\n",
       "      <th>fixed acidity</th>\n",
       "      <th>volatile acidity</th>\n",
       "      <th>citric acid</th>\n",
       "      <th>residual sugar</th>\n",
       "      <th>chlorides</th>\n",
       "      <th>free sulfur dioxide</th>\n",
       "      <th>total sulfur dioxide</th>\n",
       "      <th>density</th>\n",
       "      <th>pH</th>\n",
       "      <th>sulphates</th>\n",
       "      <th>alcohol</th>\n",
       "    </tr>\n",
       "  </thead>\n",
       "  <tbody>\n",
       "    <tr>\n",
       "      <th>count</th>\n",
       "      <td>1758.000000</td>\n",
       "      <td>1758.000000</td>\n",
       "      <td>1758.000000</td>\n",
       "      <td>1758.000000</td>\n",
       "      <td>1758.000000</td>\n",
       "      <td>1758.000000</td>\n",
       "      <td>1758.000000</td>\n",
       "      <td>1758.000000</td>\n",
       "      <td>1758.000000</td>\n",
       "      <td>1758.000000</td>\n",
       "      <td>1758.000000</td>\n",
       "    </tr>\n",
       "    <tr>\n",
       "      <th>mean</th>\n",
       "      <td>0.664471</td>\n",
       "      <td>0.316888</td>\n",
       "      <td>0.332167</td>\n",
       "      <td>0.276428</td>\n",
       "      <td>0.132580</td>\n",
       "      <td>0.274221</td>\n",
       "      <td>0.408038</td>\n",
       "      <td>0.991700</td>\n",
       "      <td>0.833107</td>\n",
       "      <td>0.450875</td>\n",
       "      <td>0.736131</td>\n",
       "    </tr>\n",
       "    <tr>\n",
       "      <th>std</th>\n",
       "      <td>0.078842</td>\n",
       "      <td>0.109071</td>\n",
       "      <td>0.119047</td>\n",
       "      <td>0.214527</td>\n",
       "      <td>0.064581</td>\n",
       "      <td>0.127459</td>\n",
       "      <td>0.124258</td>\n",
       "      <td>0.002970</td>\n",
       "      <td>0.038643</td>\n",
       "      <td>0.103563</td>\n",
       "      <td>0.091842</td>\n",
       "    </tr>\n",
       "    <tr>\n",
       "      <th>min</th>\n",
       "      <td>0.378641</td>\n",
       "      <td>0.088398</td>\n",
       "      <td>0.000000</td>\n",
       "      <td>0.025532</td>\n",
       "      <td>0.040462</td>\n",
       "      <td>0.015267</td>\n",
       "      <td>0.026163</td>\n",
       "      <td>0.984737</td>\n",
       "      <td>0.730366</td>\n",
       "      <td>0.203704</td>\n",
       "      <td>0.563380</td>\n",
       "    </tr>\n",
       "    <tr>\n",
       "      <th>25%</th>\n",
       "      <td>0.611650</td>\n",
       "      <td>0.243094</td>\n",
       "      <td>0.260000</td>\n",
       "      <td>0.076596</td>\n",
       "      <td>0.101879</td>\n",
       "      <td>0.175573</td>\n",
       "      <td>0.316860</td>\n",
       "      <td>0.989348</td>\n",
       "      <td>0.806283</td>\n",
       "      <td>0.379630</td>\n",
       "      <td>0.661972</td>\n",
       "    </tr>\n",
       "    <tr>\n",
       "      <th>50%</th>\n",
       "      <td>0.660194</td>\n",
       "      <td>0.309392</td>\n",
       "      <td>0.310000</td>\n",
       "      <td>0.221277</td>\n",
       "      <td>0.124277</td>\n",
       "      <td>0.267176</td>\n",
       "      <td>0.398256</td>\n",
       "      <td>0.991411</td>\n",
       "      <td>0.829843</td>\n",
       "      <td>0.435185</td>\n",
       "      <td>0.718310</td>\n",
       "    </tr>\n",
       "    <tr>\n",
       "      <th>75%</th>\n",
       "      <td>0.708738</td>\n",
       "      <td>0.364641</td>\n",
       "      <td>0.390000</td>\n",
       "      <td>0.429255</td>\n",
       "      <td>0.147399</td>\n",
       "      <td>0.358779</td>\n",
       "      <td>0.496366</td>\n",
       "      <td>0.993885</td>\n",
       "      <td>0.856021</td>\n",
       "      <td>0.500000</td>\n",
       "      <td>0.802817</td>\n",
       "    </tr>\n",
       "    <tr>\n",
       "      <th>max</th>\n",
       "      <td>1.000000</td>\n",
       "      <td>0.939227</td>\n",
       "      <td>1.000000</td>\n",
       "      <td>1.000000</td>\n",
       "      <td>1.000000</td>\n",
       "      <td>0.977099</td>\n",
       "      <td>1.000000</td>\n",
       "      <td>1.000000</td>\n",
       "      <td>1.000000</td>\n",
       "      <td>0.916667</td>\n",
       "      <td>1.000000</td>\n",
       "    </tr>\n",
       "  </tbody>\n",
       "</table>\n",
       "</div>"
      ],
      "text/plain": [
       "       fixed acidity  volatile acidity  citric acid  residual sugar  \\\n",
       "count    1758.000000       1758.000000  1758.000000     1758.000000   \n",
       "mean        0.664471          0.316888     0.332167        0.276428   \n",
       "std         0.078842          0.109071     0.119047        0.214527   \n",
       "min         0.378641          0.088398     0.000000        0.025532   \n",
       "25%         0.611650          0.243094     0.260000        0.076596   \n",
       "50%         0.660194          0.309392     0.310000        0.221277   \n",
       "75%         0.708738          0.364641     0.390000        0.429255   \n",
       "max         1.000000          0.939227     1.000000        1.000000   \n",
       "\n",
       "         chlorides  free sulfur dioxide  total sulfur dioxide      density  \\\n",
       "count  1758.000000          1758.000000           1758.000000  1758.000000   \n",
       "mean      0.132580             0.274221              0.408038     0.991700   \n",
       "std       0.064581             0.127459              0.124258     0.002970   \n",
       "min       0.040462             0.015267              0.026163     0.984737   \n",
       "25%       0.101879             0.175573              0.316860     0.989348   \n",
       "50%       0.124277             0.267176              0.398256     0.991411   \n",
       "75%       0.147399             0.358779              0.496366     0.993885   \n",
       "max       1.000000             0.977099              1.000000     1.000000   \n",
       "\n",
       "                pH    sulphates      alcohol  \n",
       "count  1758.000000  1758.000000  1758.000000  \n",
       "mean      0.833107     0.450875     0.736131  \n",
       "std       0.038643     0.103563     0.091842  \n",
       "min       0.730366     0.203704     0.563380  \n",
       "25%       0.806283     0.379630     0.661972  \n",
       "50%       0.829843     0.435185     0.718310  \n",
       "75%       0.856021     0.500000     0.802817  \n",
       "max       1.000000     0.916667     1.000000  "
      ]
     },
     "execution_count": 9,
     "metadata": {},
     "output_type": "execute_result"
    }
   ],
   "source": [
    "train_X.describe()"
   ]
  },
  {
   "cell_type": "code",
   "execution_count": 10,
   "metadata": {},
   "outputs": [
    {
     "data": {
      "text/html": [
       "<div>\n",
       "<style scoped>\n",
       "    .dataframe tbody tr th:only-of-type {\n",
       "        vertical-align: middle;\n",
       "    }\n",
       "\n",
       "    .dataframe tbody tr th {\n",
       "        vertical-align: top;\n",
       "    }\n",
       "\n",
       "    .dataframe thead th {\n",
       "        text-align: right;\n",
       "    }\n",
       "</style>\n",
       "<table border=\"1\" class=\"dataframe\">\n",
       "  <thead>\n",
       "    <tr style=\"text-align: right;\">\n",
       "      <th></th>\n",
       "      <th>fixed acidity</th>\n",
       "      <th>volatile acidity</th>\n",
       "      <th>citric acid</th>\n",
       "      <th>residual sugar</th>\n",
       "      <th>chlorides</th>\n",
       "      <th>free sulfur dioxide</th>\n",
       "      <th>total sulfur dioxide</th>\n",
       "      <th>density</th>\n",
       "      <th>pH</th>\n",
       "      <th>sulphates</th>\n",
       "      <th>alcohol</th>\n",
       "    </tr>\n",
       "  </thead>\n",
       "  <tbody>\n",
       "    <tr>\n",
       "      <th>count</th>\n",
       "      <td>754.000000</td>\n",
       "      <td>754.000000</td>\n",
       "      <td>754.000000</td>\n",
       "      <td>754.000000</td>\n",
       "      <td>754.000000</td>\n",
       "      <td>754.000000</td>\n",
       "      <td>754.000000</td>\n",
       "      <td>754.000000</td>\n",
       "      <td>754.000000</td>\n",
       "      <td>754.000000</td>\n",
       "      <td>754.000000</td>\n",
       "    </tr>\n",
       "    <tr>\n",
       "      <th>mean</th>\n",
       "      <td>0.664740</td>\n",
       "      <td>0.316024</td>\n",
       "      <td>0.333820</td>\n",
       "      <td>0.272228</td>\n",
       "      <td>0.133285</td>\n",
       "      <td>0.267130</td>\n",
       "      <td>0.405922</td>\n",
       "      <td>0.991625</td>\n",
       "      <td>0.838012</td>\n",
       "      <td>0.459696</td>\n",
       "      <td>0.742994</td>\n",
       "    </tr>\n",
       "    <tr>\n",
       "      <th>std</th>\n",
       "      <td>0.080057</td>\n",
       "      <td>0.111353</td>\n",
       "      <td>0.119962</td>\n",
       "      <td>0.212159</td>\n",
       "      <td>0.065300</td>\n",
       "      <td>0.121941</td>\n",
       "      <td>0.113749</td>\n",
       "      <td>0.003021</td>\n",
       "      <td>0.040263</td>\n",
       "      <td>0.111501</td>\n",
       "      <td>0.092043</td>\n",
       "    </tr>\n",
       "    <tr>\n",
       "      <th>min</th>\n",
       "      <td>0.407767</td>\n",
       "      <td>0.121547</td>\n",
       "      <td>0.000000</td>\n",
       "      <td>0.025532</td>\n",
       "      <td>0.026012</td>\n",
       "      <td>0.022901</td>\n",
       "      <td>0.069767</td>\n",
       "      <td>0.985026</td>\n",
       "      <td>0.746073</td>\n",
       "      <td>0.240741</td>\n",
       "      <td>0.598592</td>\n",
       "    </tr>\n",
       "    <tr>\n",
       "      <th>25%</th>\n",
       "      <td>0.621359</td>\n",
       "      <td>0.234807</td>\n",
       "      <td>0.270000</td>\n",
       "      <td>0.076596</td>\n",
       "      <td>0.101156</td>\n",
       "      <td>0.183206</td>\n",
       "      <td>0.328488</td>\n",
       "      <td>0.989336</td>\n",
       "      <td>0.811518</td>\n",
       "      <td>0.379630</td>\n",
       "      <td>0.661972</td>\n",
       "    </tr>\n",
       "    <tr>\n",
       "      <th>50%</th>\n",
       "      <td>0.660194</td>\n",
       "      <td>0.298343</td>\n",
       "      <td>0.320000</td>\n",
       "      <td>0.225532</td>\n",
       "      <td>0.124277</td>\n",
       "      <td>0.259542</td>\n",
       "      <td>0.395349</td>\n",
       "      <td>0.991311</td>\n",
       "      <td>0.832461</td>\n",
       "      <td>0.444444</td>\n",
       "      <td>0.732394</td>\n",
       "    </tr>\n",
       "    <tr>\n",
       "      <th>75%</th>\n",
       "      <td>0.708738</td>\n",
       "      <td>0.364641</td>\n",
       "      <td>0.390000</td>\n",
       "      <td>0.425532</td>\n",
       "      <td>0.144509</td>\n",
       "      <td>0.343511</td>\n",
       "      <td>0.482558</td>\n",
       "      <td>0.993905</td>\n",
       "      <td>0.863874</td>\n",
       "      <td>0.509259</td>\n",
       "      <td>0.802817</td>\n",
       "    </tr>\n",
       "    <tr>\n",
       "      <th>max</th>\n",
       "      <td>0.951456</td>\n",
       "      <td>1.000000</td>\n",
       "      <td>0.860000</td>\n",
       "      <td>0.842553</td>\n",
       "      <td>0.783237</td>\n",
       "      <td>1.000000</td>\n",
       "      <td>0.909884</td>\n",
       "      <td>0.998793</td>\n",
       "      <td>0.992147</td>\n",
       "      <td>1.000000</td>\n",
       "      <td>0.978873</td>\n",
       "    </tr>\n",
       "  </tbody>\n",
       "</table>\n",
       "</div>"
      ],
      "text/plain": [
       "       fixed acidity  volatile acidity  citric acid  residual sugar  \\\n",
       "count     754.000000        754.000000   754.000000      754.000000   \n",
       "mean        0.664740          0.316024     0.333820        0.272228   \n",
       "std         0.080057          0.111353     0.119962        0.212159   \n",
       "min         0.407767          0.121547     0.000000        0.025532   \n",
       "25%         0.621359          0.234807     0.270000        0.076596   \n",
       "50%         0.660194          0.298343     0.320000        0.225532   \n",
       "75%         0.708738          0.364641     0.390000        0.425532   \n",
       "max         0.951456          1.000000     0.860000        0.842553   \n",
       "\n",
       "        chlorides  free sulfur dioxide  total sulfur dioxide     density  \\\n",
       "count  754.000000           754.000000            754.000000  754.000000   \n",
       "mean     0.133285             0.267130              0.405922    0.991625   \n",
       "std      0.065300             0.121941              0.113749    0.003021   \n",
       "min      0.026012             0.022901              0.069767    0.985026   \n",
       "25%      0.101156             0.183206              0.328488    0.989336   \n",
       "50%      0.124277             0.259542              0.395349    0.991311   \n",
       "75%      0.144509             0.343511              0.482558    0.993905   \n",
       "max      0.783237             1.000000              0.909884    0.998793   \n",
       "\n",
       "               pH   sulphates     alcohol  \n",
       "count  754.000000  754.000000  754.000000  \n",
       "mean     0.838012    0.459696    0.742994  \n",
       "std      0.040263    0.111501    0.092043  \n",
       "min      0.746073    0.240741    0.598592  \n",
       "25%      0.811518    0.379630    0.661972  \n",
       "50%      0.832461    0.444444    0.732394  \n",
       "75%      0.863874    0.509259    0.802817  \n",
       "max      0.992147    1.000000    0.978873  "
      ]
     },
     "execution_count": 10,
     "metadata": {},
     "output_type": "execute_result"
    }
   ],
   "source": [
    "test_X.describe()"
   ]
  },
  {
   "cell_type": "markdown",
   "metadata": {},
   "source": [
    "<h2> 2. Network Implementation </h2>\n",
    "\n",
    "<h5> Structure </h5>\n",
    "\n",
    "The network we implement will be a feed-forward NN with one hidden layer. We use one hidden layer because it is hypothesised that since one hidden layer is sufficient for most problems, it will suffice for this problem also. We choose to include 6 nodes in the hidden layer. Once again, we are not using network optimization in this implmentation so we hypothesize that 6 hidden nodes is sufficient for the job.\n",
    "\n",
    "Under this setup, the network will have a total of 11\\*6 + 6\\*3 = 120 weights. Hence, 600 training examples are required to achieve an accuracy of 0.80. We have sufficient examples in our training data.\n",
    "\n",
    "<h5> Initialization </h5>\n",
    "\n",
    "We initialize the weights using the *uniform initialization* strategy, in which we draw the weights in each layer from a uniform distribution ranging from -1/(previous layer nodes) to 1/(previous layer nodes).\n",
    "\n",
    "<h5> Parameters </h5>\n",
    "\n",
    "For our stopping criterion, we use a simple epoch based approach in which we specify `num_epochs` as the number of times the algorithm loops through the training set. This will avoid the possibility of an endless loop. At the end of each epoch, we measure the prediction accuracy using the testing set. The graph of prediction accuracy per training epoch can be seen below.\n",
    "\n",
    "The learning rate and momentum parameters were chosen from trial and error. We observe that choosing a learning rate that is too high causes the result to be chaotic, characterized by large fluctuations in the accuracy/training epochs graph. Choosing a momentum that is too high will prevent the algorithm from converging, characterized by a drastic degenerative dip in the accuracy/epoch graph."
   ]
  },
  {
   "cell_type": "code",
   "execution_count": 11,
   "metadata": {},
   "outputs": [],
   "source": [
    "import network\n",
    "import matplotlib.pyplot as plt\n",
    "\n",
    "layers = [11, 6, 3]\n",
    "learning_rate = 0.01\n",
    "momentum = 0.00001\n",
    "\n",
    "net = network.bp_classifer(layers, learning_rate, momentum)\n",
    "initial_weights = net.weights.copy()\n",
    "initial_biases = net.biases.copy()"
   ]
  },
  {
   "cell_type": "code",
   "execution_count": 12,
   "metadata": {},
   "outputs": [],
   "source": [
    "acc = net.train(train_X.as_matrix(), train_D.as_matrix(), test_X.as_matrix(), test_D.as_matrix(), num_epochs=200)"
   ]
  },
  {
   "cell_type": "code",
   "execution_count": 13,
   "metadata": {},
   "outputs": [
    {
     "data": {
      "image/png": "[encoded data removed]",
      "text/plain": [
       "<matplotlib.figure.Figure at 0x7f8b4e0a1390>"
      ]
     },
     "metadata": {},
     "output_type": "display_data"
    }
   ],
   "source": [
    "plt.figure()\n",
    "plt.title('Validation Accuracy per Training Epoch')\n",
    "plt.xlabel('epoch')\n",
    "plt.ylabel('prediction accuracy')\n",
    "plt.plot(acc)\n",
    "plt.show()"
   ]
  },
  {
   "cell_type": "code",
   "execution_count": 14,
   "metadata": {},
   "outputs": [
    {
     "data": {
      "text/plain": [
       "0.71220159151193629"
      ]
     },
     "execution_count": 14,
     "metadata": {},
     "output_type": "execute_result"
    }
   ],
   "source": [
    "max(acc)"
   ]
  },
  {
   "cell_type": "code",
   "execution_count": 15,
   "metadata": {},
   "outputs": [
    {
     "data": {
      "text/plain": [
       "119"
      ]
     },
     "execution_count": 15,
     "metadata": {},
     "output_type": "execute_result"
    }
   ],
   "source": [
    "np.argmax(acc)"
   ]
  },
  {
   "cell_type": "code",
   "execution_count": 16,
   "metadata": {},
   "outputs": [],
   "source": [
    "import seaborn as sns\n",
    "from sklearn.metrics import confusion_matrix\n",
    "\n",
    "predictions = net.test(test_X.as_matrix())\n",
    "labels = ['5', '7', '8']\n",
    "cm = confusion_matrix(test_D.as_matrix(), predictions)\n",
    "cm = pd.DataFrame(cm, index=labels, columns=labels)\n",
    "cm_plot = sns.heatmap(cm, annot=True, cmap=\"YlGnBu\")"
   ]
  },
  {
   "cell_type": "code",
   "execution_count": 17,
   "metadata": {},
   "outputs": [
    {
     "data": {
      "image/png": "[encoded data removed]",
      "text/plain": [
       "<matplotlib.figure.Figure at 0x7f8b68139ac8>"
      ]
     },
     "metadata": {},
     "output_type": "display_data"
    }
   ],
   "source": [
    "plt.title(\"Confusion Matrix\")\n",
    "plt.xlabel(\"Predicted Class\")\n",
    "plt.ylabel(\"True Class\")\n",
    "plt.show()"
   ]
  },
  {
   "cell_type": "markdown",
   "metadata": {},
   "source": [
    "Due to the scarcity of class 8 in the data, the network did not learn to recognize class 8 very well. The network can be modified such that scarce classes can be assigned greater importance during training."
   ]
  },
  {
   "cell_type": "markdown",
   "metadata": {},
   "source": [
    "<h5> Precision and Recall </h5>"
   ]
  },
  {
   "cell_type": "code",
   "execution_count": 18,
   "metadata": {},
   "outputs": [
    {
     "name": "stdout",
     "output_type": "stream",
     "text": [
      "Quality: 5: {'precision': 0.67889908256880738, 'recall': 0.70813397129186606}\n",
      "Quality: 7: {'precision': 0.5490196078431373, 'recall': 0.49295774647887325}\n",
      "Quality: 8: {'precision': 0.1111111111111111, 'recall': 0.13461538461538461}\n"
     ]
    }
   ],
   "source": [
    "from metrics import precision_recall\n",
    "\n",
    "stats = precision_recall(cm.as_matrix())\n",
    "for q, s in zip([5, 7, 8], stats):\n",
    "    print(f'Quality: {q}: {s}')"
   ]
  },
  {
   "cell_type": "markdown",
   "metadata": {},
   "source": [
    "<h5> Initial and Final Weights </h5>"
   ]
  },
  {
   "cell_type": "code",
   "execution_count": 19,
   "metadata": {},
   "outputs": [
    {
     "data": {
      "image/png": "[encoded data removed]",
      "text/plain": [
       "<matplotlib.figure.Figure at 0x7f8b432f2e80>"
      ]
     },
     "metadata": {},
     "output_type": "display_data"
    },
    {
     "data": {
      "image/png": "[encoded data removed]",
      "text/plain": [
       "<matplotlib.figure.Figure at 0x7f8b43ff01d0>"
      ]
     },
     "metadata": {},
     "output_type": "display_data"
    }
   ],
   "source": [
    "for w in initial_weights:\n",
    "    w_frame = pd.DataFrame(w)\n",
    "    hmap = sns.heatmap(w_frame, annot=True)\n",
    "    plt.show()"
   ]
  },
  {
   "cell_type": "code",
   "execution_count": 20,
   "metadata": {},
   "outputs": [
    {
     "data": {
      "image/png": "[encoded data removed]",
      "text/plain": [
       "<matplotlib.figure.Figure at 0x7f8b4405ebe0>"
      ]
     },
     "metadata": {},
     "output_type": "display_data"
    },
    {
     "data": {
      "image/png": "[encoded data removed]",
      "text/plain": [
       "<matplotlib.figure.Figure at 0x7f8b4312e3c8>"
      ]
     },
     "metadata": {},
     "output_type": "display_data"
    }
   ],
   "source": [
    "for w in net.weights:\n",
    "    w_frame = pd.DataFrame(w)\n",
    "    hmap = sns.heatmap(w_frame, annot=True)\n",
    "    plt.show()"
   ]
  },
  {
   "cell_type": "markdown",
   "metadata": {},
   "source": [
    "<h5> Output Labels vs. True Labels </h5>"
   ]
  },
  {
   "cell_type": "code",
   "execution_count": 31,
   "metadata": {},
   "outputs": [],
   "source": [
    "labels = np.hstack([test_D.as_matrix().reshape(test_D.shape[0], 1), np.array(predictions).reshape(len(predictions), 1)])\n",
    "labels = pd.DataFrame(labels, columns=[\"True\", \"Pred\"])"
   ]
  },
  {
   "cell_type": "code",
   "execution_count": 33,
   "metadata": {},
   "outputs": [
    {
     "data": {
      "text/html": [
       "<div>\n",
       "<style scoped>\n",
       "    .dataframe tbody tr th:only-of-type {\n",
       "        vertical-align: middle;\n",
       "    }\n",
       "\n",
       "    .dataframe tbody tr th {\n",
       "        vertical-align: top;\n",
       "    }\n",
       "\n",
       "    .dataframe thead th {\n",
       "        text-align: right;\n",
       "    }\n",
       "</style>\n",
       "<table border=\"1\" class=\"dataframe\">\n",
       "  <thead>\n",
       "    <tr style=\"text-align: right;\">\n",
       "      <th></th>\n",
       "      <th>True</th>\n",
       "      <th>Pred</th>\n",
       "    </tr>\n",
       "  </thead>\n",
       "  <tbody>\n",
       "    <tr>\n",
       "      <th>0</th>\n",
       "      <td>0</td>\n",
       "      <td>0</td>\n",
       "    </tr>\n",
       "    <tr>\n",
       "      <th>1</th>\n",
       "      <td>0</td>\n",
       "      <td>0</td>\n",
       "    </tr>\n",
       "    <tr>\n",
       "      <th>2</th>\n",
       "      <td>0</td>\n",
       "      <td>1</td>\n",
       "    </tr>\n",
       "    <tr>\n",
       "      <th>3</th>\n",
       "      <td>0</td>\n",
       "      <td>1</td>\n",
       "    </tr>\n",
       "    <tr>\n",
       "      <th>4</th>\n",
       "      <td>0</td>\n",
       "      <td>1</td>\n",
       "    </tr>\n",
       "    <tr>\n",
       "      <th>5</th>\n",
       "      <td>0</td>\n",
       "      <td>1</td>\n",
       "    </tr>\n",
       "    <tr>\n",
       "      <th>6</th>\n",
       "      <td>1</td>\n",
       "      <td>0</td>\n",
       "    </tr>\n",
       "    <tr>\n",
       "      <th>7</th>\n",
       "      <td>1</td>\n",
       "      <td>1</td>\n",
       "    </tr>\n",
       "    <tr>\n",
       "      <th>8</th>\n",
       "      <td>1</td>\n",
       "      <td>1</td>\n",
       "    </tr>\n",
       "    <tr>\n",
       "      <th>9</th>\n",
       "      <td>1</td>\n",
       "      <td>1</td>\n",
       "    </tr>\n",
       "  </tbody>\n",
       "</table>\n",
       "</div>"
      ],
      "text/plain": [
       "   True  Pred\n",
       "0     0     0\n",
       "1     0     0\n",
       "2     0     1\n",
       "3     0     1\n",
       "4     0     1\n",
       "5     0     1\n",
       "6     1     0\n",
       "7     1     1\n",
       "8     1     1\n",
       "9     1     1"
      ]
     },
     "execution_count": 33,
     "metadata": {},
     "output_type": "execute_result"
    }
   ],
   "source": [
    "labels.head(10)"
   ]
  },
  {
   "cell_type": "code",
   "execution_count": 34,
   "metadata": {},
   "outputs": [],
   "source": [
    "labels.to_csv(\"predictions.csv\")"
   ]
  },
  {
   "cell_type": "code",
   "execution_count": null,
   "metadata": {},
   "outputs": [],
   "source": []
  }
 ],
 "metadata": {
  "kernelspec": {
   "display_name": "Python 3",
   "language": "python",
   "name": "python3"
  },
  "language_info": {
   "codemirror_mode": {
    "name": "ipython",
    "version": 3
   },
   "file_extension": ".py",
   "mimetype": "text/x-python",
   "name": "python",
   "nbconvert_exporter": "python",
   "pygments_lexer": "ipython3",
   "version": "3.6.2"
  }
 },
 "nbformat": 4,
 "nbformat_minor": 2
}
